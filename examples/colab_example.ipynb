{
  "nbformat": 4,
  "nbformat_minor": 0,
  "metadata": {
    "colab": {
      "provenance": []
    },
    "kernelspec": {
      "name": "python3",
      "display_name": "Python 3"
    },
    "language_info": {
      "name": "python"
    }
  },
  "cells": [
    {
      "cell_type": "markdown",
      "source": [
        "# PydMagic examples"
      ],
      "metadata": {
        "id": "SAwAlgrO7l_U"
      }
    },
    {
      "cell_type": "markdown",
      "source": [
        "## Install the ipython extension and dependencies"
      ],
      "metadata": {
        "id": "y7Itd3EK_tcB"
      }
    },
    {
      "cell_type": "code",
      "execution_count": 1,
      "metadata": {
        "id": "YAcDsg_xmEPd"
      },
      "outputs": [],
      "source": [
        "!curl -s https://raw.githubusercontent.com/Reavershark/PydMagic/2023-update-squash/pyd_magic.py > pyd_magic.py\n",
        "!pip install mergedict pyd >/dev/null\n",
        "!apt-get update >/dev/null && apt-get install -y ldc dub >/dev/null\n",
        "%load_ext pyd_magic\n",
        "!rm pyd_magic.py"
      ]
    },
    {
      "cell_type": "markdown",
      "source": [
        "## General type conversion demo"
      ],
      "metadata": {
        "id": "EofK5M_W7fkw"
      }
    },
    {
      "cell_type": "code",
      "source": [
        "%%pyd\n",
        "\n",
        "import std;\n",
        "\n",
        "@pdef!() auto type_demo() {\n",
        "    return tuple(\n",
        "        \"Hello world!\",\n",
        "        true,\n",
        "        1,\n",
        "        5.iota.map!\"a*2\".array,\n",
        "        [\"a\": 1],\n",
        "        (int a) => a + 1\n",
        "    );\n",
        "}"
      ],
      "metadata": {
        "id": "FkDmUREyvXZE"
      },
      "execution_count": 2,
      "outputs": []
    },
    {
      "cell_type": "code",
      "source": [
        "print(type_demo())\n",
        "print(type_demo()[-1](1)) # Call the lambda (the last tuple element)"
      ],
      "metadata": {
        "colab": {
          "base_uri": "https://localhost:8080/"
        },
        "id": "xEqomDMJ8mPQ",
        "outputId": "0f60b7c6-07d6-4a4f-b775-2df7d3d25fa2"
      },
      "execution_count": 3,
      "outputs": [
        {
          "output_type": "stream",
          "name": "stdout",
          "text": [
            "('Hello world!', True, 1, [0, 2, 4, 6, 8], {'a': 1}, <PydFunc object at 0x7f4c636910a0>)\n",
            "2\n"
          ]
        }
      ]
    },
    {
      "cell_type": "markdown",
      "source": [
        " ## Using custom python classes from D"
      ],
      "metadata": {
        "id": "tPkmOtq1p6r7"
      }
    },
    {
      "cell_type": "code",
      "source": [
        "class SomeClass:\n",
        "  a_field = 1\n",
        "  def test(self) -> int:\n",
        "    return 2"
      ],
      "metadata": {
        "id": "gO4K0vYzs8M-"
      },
      "execution_count": 4,
      "outputs": []
    },
    {
      "cell_type": "code",
      "source": [
        "%%pyd\n",
        "\n",
        "@pdef!() auto py_class_demo() {\n",
        "    PydObject py_obj = py_eval(\"SomeClass()\", \"__main__\");\n",
        "    py_obj.method(\"test\"); // return value is discarded\n",
        "    py_obj.a_field = 10;\n",
        "    return py_obj;\n",
        "}"
      ],
      "metadata": {
        "id": "IKPSoNYwnDKS"
      },
      "execution_count": 5,
      "outputs": []
    },
    {
      "cell_type": "code",
      "source": [
        "some_class = py_class_demo()\n",
        "print(some_class)\n",
        "print(some_class.test())\n",
        "print(some_class.a_field)"
      ],
      "metadata": {
        "colab": {
          "base_uri": "https://localhost:8080/"
        },
        "id": "Gr8Sru_ftzEO",
        "outputId": "52966ed2-8c8f-4ba2-a615-d2ac66c0d260"
      },
      "execution_count": 6,
      "outputs": [
        {
          "output_type": "stream",
          "name": "stdout",
          "text": [
            "<__main__.SomeClass object at 0x7f4c603c0df0>\n",
            "2\n",
            "10\n"
          ]
        }
      ]
    },
    {
      "cell_type": "markdown",
      "source": [
        "## Use D ranges in python"
      ],
      "metadata": {
        "id": "9e0DcI9X5cIw"
      }
    },
    {
      "cell_type": "code",
      "source": [
        "%%pyd\n",
        "import std.range;\n",
        "\n",
        "struct FibonacciRange\n",
        "{\n",
        "    // States of the Fibonacci generator\n",
        "    int a = 1, b = 1;\n",
        "\n",
        "    // The fibonacci range never ends\n",
        "    enum empty = false;\n",
        "\n",
        "    // Peek at the first element\n",
        "    int front() const @property\n",
        "    {\n",
        "        return a;\n",
        "    }\n",
        "\n",
        "    // Remove the first element\n",
        "    void popFront()\n",
        "    {\n",
        "        auto t = a;\n",
        "        a = b;\n",
        "        b = t + b;\n",
        "    }\n",
        "}\n",
        "\n",
        "static assert(isInputRange!FibonacciRange);\n",
        "static assert(isInfinite!FibonacciRange);\n",
        "\n",
        "@pdef!() auto range_demo() {\n",
        "  // Can't return infinite ranges to python\n",
        "  return FibonacciRange().take(20);\n",
        "}"
      ],
      "metadata": {
        "id": "pRHE8cA15YOp"
      },
      "execution_count": 7,
      "outputs": []
    },
    {
      "cell_type": "code",
      "source": [
        "for el in range_demo():\n",
        "  print(el, end=\" \")"
      ],
      "metadata": {
        "colab": {
          "base_uri": "https://localhost:8080/"
        },
        "id": "miNVvjJq5uDd",
        "outputId": "6ae9fbc3-c8d9-4dea-b689-7c0ff8e860cd"
      },
      "execution_count": 8,
      "outputs": [
        {
          "output_type": "stream",
          "name": "stdout",
          "text": [
            "1 1 2 3 5 8 13 21 34 55 89 144 233 377 610 987 1597 2584 4181 6765 "
          ]
        }
      ]
    },
    {
      "cell_type": "markdown",
      "source": [
        "## Catching python exceptions in D"
      ],
      "metadata": {
        "id": "Ta7wTmhJqF5S"
      }
    },
    {
      "cell_type": "code",
      "source": [
        "%%pyd\n",
        "\n",
        "@pdef!() string py_exception_demo(PydObject some_lambda) {\n",
        "  bool caught_exception = false;\n",
        "  try {\n",
        "      some_lambda();\n",
        "  } catch (PythonException e) {\n",
        "      caught_exception = true;\n",
        "  }\n",
        "  return caught_exception ? \"Caught a PythonException\" : \"Didn't catch anything\";\n",
        "}"
      ],
      "metadata": {
        "id": "P9hNjJq0qKcR"
      },
      "execution_count": 9,
      "outputs": []
    },
    {
      "cell_type": "code",
      "source": [
        "def just_throw():\n",
        "  raise Exception('error')\n",
        "\n",
        "print(py_exception_demo(lambda: None))\n",
        "print(py_exception_demo(lambda: just_throw()))"
      ],
      "metadata": {
        "colab": {
          "base_uri": "https://localhost:8080/"
        },
        "id": "_fhs2WCyxhYE",
        "outputId": "2adcd6f3-839f-4635-dc82-ecadf0248abb"
      },
      "execution_count": 10,
      "outputs": [
        {
          "output_type": "stream",
          "name": "stdout",
          "text": [
            "Didn't catch anything\n",
            "Caught a PythonException\n"
          ]
        }
      ]
    },
    {
      "cell_type": "markdown",
      "source": [
        "## Catching D exceptions in python"
      ],
      "metadata": {
        "id": "7_ZLHqfk0T8K"
      }
    },
    {
      "cell_type": "code",
      "source": [
        "%%pyd\n",
        "\n",
        "@pdef!() void d_exception_demo() {\n",
        "    throw new Exception(\"message\");\n",
        "}\n",
        "\n",
        "@pdef!() void print_first_n_lines(string msg, int n) {\n",
        "  import std : split, take, join;\n",
        "  auto print = py_eval(\"print\");\n",
        "  \n",
        "  string shortened = msg.split(\"\\n\").take(n).join(\"\\n\");\n",
        "  print(shortened);\n",
        "}"
      ],
      "metadata": {
        "id": "uYpxcE3F0Xbp"
      },
      "execution_count": 11,
      "outputs": []
    },
    {
      "cell_type": "code",
      "source": [
        "# Rewritten in d in the previous cell\n",
        "#def print_first_n_lines(msg: str, n: int) -> None:\n",
        "#  print('\\n'.join(msg.split(\"\\n\")[0:n]))\n",
        "\n",
        "try:\n",
        "  d_exception_demo()\n",
        "except Exception as e:\n",
        "  print(type(e))\n",
        "  print_first_n_lines(str(e), 15)"
      ],
      "metadata": {
        "colab": {
          "base_uri": "https://localhost:8080/"
        },
        "id": "MEm46LmvqIoD",
        "outputId": "7da7b8e3-5429-4200-adea-4b3c39500f16"
      },
      "execution_count": 12,
      "outputs": [
        {
          "output_type": "stream",
          "name": "stdout",
          "text": [
            "<class 'RuntimeError'>\n",
            "D Exception:\n",
            "object.Exception@/root/.cache/ipython/pyd/_pyd_magic_0717fb6d456ecdb75f1a8e32f07192f4/_pyd_magic_0717fb6d456ecdb75f1a8e32f07192f4.d(14): message\n",
            "----------------\n",
            "??:? void _pyd_magic_0717fb6d456ecdb75f1a8e32f07192f4.d_exception_demo() [0x7f4c42ace936]\n",
            "??:? void pyd.func_wrap.applyPyTupleToAlias!(_pyd_magic_0717fb6d456ecdb75f1a8e32f07192f4.d_exception_demo(), \"d_exception_demo\").applyPyTupleToAlias(deimos.python.object.PyObject*, deimos.python.object.PyObject*) [0x7f4c42ae491d]\n",
            "??:? deimos.python.object.PyObject* pyd.func_wrap.pyApplyToAlias!(_pyd_magic_0717fb6d456ecdb75f1a8e32f07192f4.d_exception_demo(), \"d_exception_demo\").pyApplyToAlias(deimos.python.object.PyObject*, deimos.python.object.PyObject*) [0x7f4c42ae477c]\n",
            "??:? deimos.python.object.PyObject* pyd.func_wrap.function_wrap!(_pyd_magic_0717fb6d456ecdb75f1a8e32f07192f4.d_exception_demo(), \"d_exception_demo\").func(deimos.python.object.PyObject*, deimos.python.object.PyObject*, deimos.python.object.PyObject*).__dgliteral4() [0x7f4c42ae4750]\n",
            "??:? deimos.python.object.PyObject* pyd.exception.exception_catcher!(deimos.python.object.PyObject*).exception_catcher(deimos.python.object.PyObject* delegate()) [0x7f4c42acfd9c]\n",
            "??:? extern (C) deimos.python.object.PyObject* pyd.func_wrap.function_wrap!(_pyd_magic_0717fb6d456ecdb75f1a8e32f07192f4.d_exception_demo(), \"d_exception_demo\").func(deimos.python.object.PyObject*, deimos.python.object.PyObject*, deimos.python.object.PyObject*) [0x7f4c42ae471b]\n",
            "??:? [0x53aca8]\n",
            "??:? _PyObject_MakeTpCall [0x62a4bd]\n",
            "??:? _PyEval_EvalFrameDefault [0x5afc17]\n",
            "??:? [0x5a9eb3]\n",
            "??:? _PyEval_EvalCodeWithName [0x5aad9a]\n",
            "??:? PyEval_EvalCode [0x6d01b6]\n"
          ]
        }
      ]
    },
    {
      "cell_type": "markdown",
      "source": [
        "## Parsing formatted strings using std.format + benchmark"
      ],
      "metadata": {
        "id": "uXTykQxndYf7"
      }
    },
    {
      "cell_type": "code",
      "source": [
        "%%pyd --dub_args=\"--build=release-nobounds\"\n",
        "\n",
        "import std.typecons;\n",
        "import std.format;\n",
        "\n",
        "@pdef!() Tuple!(int, int) parse_point_d(string s)\n",
        "{\n",
        "    Tuple!(int, int) t;\n",
        "    s.formattedRead!\"{%d;%d}\"(t[0], t[1]);\n",
        "    return t;\n",
        "}\n",
        "\n",
        "@pdef!() Tuple!(int, int)[] parse_point_list_d(string[] arr)\n",
        "{\n",
        "    Tuple!(int, int)[] tuples;\n",
        "    tuples.length = arr.length;\n",
        " \n",
        "    foreach (i, s; arr)\n",
        "        s.formattedRead!\"{%d;%d}\"(tuples[i][0], tuples[i][1]);\n",
        "\n",
        "    return tuples;\n",
        "}"
      ],
      "metadata": {
        "id": "lT5IKl3VdX-z"
      },
      "execution_count": 13,
      "outputs": []
    },
    {
      "cell_type": "code",
      "source": [
        "def parse_point_py(s: str) -> tuple:\n",
        "  assert len(s) >= 5\n",
        "  s = s[1:-1]\n",
        "  s_split = s.split(';')\n",
        "  return (int(s_split[0]), int(s_split[1]))\n",
        "\n",
        "def parse_point_list_py(l: list) -> list:\n",
        "  return [parse_point_py(x) for x in l]"
      ],
      "metadata": {
        "id": "LpyH4cPVfs9I"
      },
      "execution_count": 14,
      "outputs": []
    },
    {
      "cell_type": "code",
      "source": [
        "points = [\"{0;1}\", \"{2;3}\", \"{-1;0}\"]\n",
        "\n",
        "print(parse_point_list_d(points))\n",
        "print(parse_point_list_py(points))\n",
        "\n",
        "from time import time\n",
        "\n",
        "points *= 1000\n",
        "\n",
        "start = time()\n",
        "for i in range(10_000):\n",
        "  [parse_point_d(point) for point in points]\n",
        "end = time()\n",
        "print(\"parse_point_d:\", end - start)\n",
        "\n",
        "start = time()\n",
        "for i in range(10_000):\n",
        "  [parse_point_py(point) for point in points]\n",
        "end = time()\n",
        "print(\"parse_point_py:\", end - start)\n",
        "\n",
        "start = time()\n",
        "for i in range(10_000):\n",
        "  parse_point_list_d(points) # marginally faster\n",
        "end = time()\n",
        "print(\"parse_point_list_d:\", end - start)\n",
        "\n",
        "start = time()\n",
        "for i in range(10_000):\n",
        "  parse_point_list_py(points)\n",
        "end = time()\n",
        "print(\"parse_point_list_py:\", end - start)"
      ],
      "metadata": {
        "colab": {
          "base_uri": "https://localhost:8080/"
        },
        "id": "s80m1DdKhEsP",
        "outputId": "9edf0388-5e03-4d7a-a4f4-87e2b1dd5020"
      },
      "execution_count": 15,
      "outputs": [
        {
          "output_type": "stream",
          "name": "stdout",
          "text": [
            "[(0, 1), (2, 3), (-1, 0)]\n",
            "[(0, 1), (2, 3), (-1, 0)]\n",
            "parse_point_d: 24.900002479553223\n",
            "parse_point_py: 21.717164516448975\n",
            "parse_point_list_d: 16.407686948776245\n",
            "parse_point_list_py: 21.314393758773804\n"
          ]
        }
      ]
    }
  ]
}