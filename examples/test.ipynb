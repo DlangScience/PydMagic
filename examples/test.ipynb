{
 "cells": [
  {
   "cell_type": "code",
   "execution_count": 1,
   "metadata": {
    "collapsed": false
   },
   "outputs": [
    {
     "name": "stdout",
     "output_type": "stream",
     "text": [
      "Installed pyd_magic.py. To use it, type:\n",
      "  %load_ext pyd_magic\n"
     ]
    }
   ],
   "source": [
    "#Run this once to install\n",
    "#%install_ext https://raw.githubusercontent.com/DlangScience/PydMagic/master/pyd_magic.py"
   ]
  },
  {
   "cell_type": "code",
   "execution_count": 2,
   "metadata": {
    "collapsed": false
   },
   "outputs": [
    {
     "name": "stdout",
     "output_type": "stream",
     "text": [
      "The pyd_magic module is not an IPython extension.\n"
     ]
    }
   ],
   "source": [
    "%load_ext pyd_magic"
   ]
  },
  {
   "cell_type": "code",
   "execution_count": 3,
   "metadata": {
    "collapsed": false,
    "scrolled": true
   },
   "outputs": [
    {
     "name": "stdout",
     "output_type": "stream",
     "text": [
      "running build\n",
      "running build_ext\n",
      "building '_pyd_magic_d3cb68e27fd3d0d8a68f9924e0c2ed33' extension\n",
      "gcc -c /usr/local/lib/python3.4/site-packages/pyd/infrastructure/d/so_ctor.c -fPIC -o build/temp.macosx-10.10-x86_64-3.4/infra/so_ctor.o\n",
      "dmd -c -fPIC -version=PydPythonExtension -version=Python_2_4_Or_Later -version=Python_2_5_Or_Later -version=Python_2_6_Or_Later -version=Python_2_7_Or_Later -version=Python_3_0_Or_Later -version=Python_3_1_Or_Later -version=Python_3_2_Or_Later -version=Python_3_3_Or_Later -version=Python_3_4_Or_Later -version=Python_Unicode_UCS4 -debug -I/usr/local/lib/python3.4/site-packages/pyd/infrastructure -ofbuild/temp.macosx-10.10-x86_64-3.4/infra/temp.o /Users/john/.ipython/pyd/_pyd_magic_d3cb68e27fd3d0d8a68f9924e0c2ed33.d /usr/local/lib/python3.4/site-packages/pyd/infrastructure/pyd/class_wrap.d /usr/local/lib/python3.4/site-packages/pyd/infrastructure/pyd/ctor_wrap.d /usr/local/lib/python3.4/site-packages/pyd/infrastructure/pyd/def.d /usr/local/lib/python3.4/site-packages/pyd/infrastructure/pyd/embedded.d /usr/local/lib/python3.4/site-packages/pyd/infrastructure/pyd/exception.d /usr/local/lib/python3.4/site-packages/pyd/infrastructure/pyd/extra.d /usr/local/lib/python3.4/site-packages/pyd/infrastructure/pyd/func_wrap.d /usr/local/lib/python3.4/site-packages/pyd/infrastructure/pyd/make_object.d /usr/local/lib/python3.4/site-packages/pyd/infrastructure/pyd/make_wrapper.d /usr/local/lib/python3.4/site-packages/pyd/infrastructure/pyd/op_wrap.d /usr/local/lib/python3.4/site-packages/pyd/infrastructure/pyd/pyd.d /usr/local/lib/python3.4/site-packages/pyd/infrastructure/pyd/pydobject.d /usr/local/lib/python3.4/site-packages/pyd/infrastructure/pyd/references.d /usr/local/lib/python3.4/site-packages/pyd/infrastructure/pyd/struct_wrap.d /usr/local/lib/python3.4/site-packages/pyd/infrastructure/pyd/thread.d /usr/local/lib/python3.4/site-packages/pyd/infrastructure/util/conv.d /usr/local/lib/python3.4/site-packages/pyd/infrastructure/util/typeinfo.d /usr/local/lib/python3.4/site-packages/pyd/infrastructure/util/typelist.d /usr/local/lib/python3.4/site-packages/pyd/infrastructure/util/multi_index.d /usr/local/lib/python3.4/site-packages/pyd/infrastructure/util/replace.d /usr/local/lib/python3.4/site-packages/pyd/infrastructure/meta/Demangle.d /usr/local/lib/python3.4/site-packages/pyd/infrastructure/meta/Nameof.d /usr/local/lib/python3.4/site-packages/pyd/infrastructure/deimos/python/abstract_.d /usr/local/lib/python3.4/site-packages/pyd/infrastructure/deimos/python/ast.d /usr/local/lib/python3.4/site-packages/pyd/infrastructure/deimos/python/boolobject.d /usr/local/lib/python3.4/site-packages/pyd/infrastructure/deimos/python/bufferobject.d /usr/local/lib/python3.4/site-packages/pyd/infrastructure/deimos/python/bytearrayobject.d /usr/local/lib/python3.4/site-packages/pyd/infrastructure/deimos/python/bytesobject.d /usr/local/lib/python3.4/site-packages/pyd/infrastructure/deimos/python/cellobject.d /usr/local/lib/python3.4/site-packages/pyd/infrastructure/deimos/python/ceval.d /usr/local/lib/python3.4/site-packages/pyd/infrastructure/deimos/python/classobject.d /usr/local/lib/python3.4/site-packages/pyd/infrastructure/deimos/python/cobject.d /usr/local/lib/python3.4/site-packages/pyd/infrastructure/deimos/python/codecs.d /usr/local/lib/python3.4/site-packages/pyd/infrastructure/deimos/python/code.d /usr/local/lib/python3.4/site-packages/pyd/infrastructure/deimos/python/compile.d /usr/local/lib/python3.4/site-packages/pyd/infrastructure/deimos/python/complexobject.d /usr/local/lib/python3.4/site-packages/pyd/infrastructure/deimos/python/cStringIO.d /usr/local/lib/python3.4/site-packages/pyd/infrastructure/deimos/python/datetime.d /usr/local/lib/python3.4/site-packages/pyd/infrastructure/deimos/python/descrobject.d /usr/local/lib/python3.4/site-packages/pyd/infrastructure/deimos/python/dictobject.d /usr/local/lib/python3.4/site-packages/pyd/infrastructure/deimos/python/enumobject.d /usr/local/lib/python3.4/site-packages/pyd/infrastructure/deimos/python/errcode.d /usr/local/lib/python3.4/site-packages/pyd/infrastructure/deimos/python/eval.d /usr/local/lib/python3.4/site-packages/pyd/infrastructure/deimos/python/fileobject.d /usr/local/lib/python3.4/site-packages/pyd/infrastructure/deimos/python/floatobject.d /usr/local/lib/python3.4/site-packages/pyd/infrastructure/deimos/python/frameobject.d /usr/local/lib/python3.4/site-packages/pyd/infrastructure/deimos/python/funcobject.d /usr/local/lib/python3.4/site-packages/pyd/infrastructure/deimos/python/genobject.d /usr/local/lib/python3.4/site-packages/pyd/infrastructure/deimos/python/grammar.d /usr/local/lib/python3.4/site-packages/pyd/infrastructure/deimos/python/import_.d /usr/local/lib/python3.4/site-packages/pyd/infrastructure/deimos/python/intobject.d /usr/local/lib/python3.4/site-packages/pyd/infrastructure/deimos/python/intrcheck.d /usr/local/lib/python3.4/site-packages/pyd/infrastructure/deimos/python/iterobject.d /usr/local/lib/python3.4/site-packages/pyd/infrastructure/deimos/python/listobject.d /usr/local/lib/python3.4/site-packages/pyd/infrastructure/deimos/python/longintrepr.d /usr/local/lib/python3.4/site-packages/pyd/infrastructure/deimos/python/longobject.d /usr/local/lib/python3.4/site-packages/pyd/infrastructure/deimos/python/marshal.d /usr/local/lib/python3.4/site-packages/pyd/infrastructure/deimos/python/memoryobject.d /usr/local/lib/python3.4/site-packages/pyd/infrastructure/deimos/python/methodobject.d /usr/local/lib/python3.4/site-packages/pyd/infrastructure/deimos/python/modsupport.d /usr/local/lib/python3.4/site-packages/pyd/infrastructure/deimos/python/moduleobject.d /usr/local/lib/python3.4/site-packages/pyd/infrastructure/deimos/python/node.d /usr/local/lib/python3.4/site-packages/pyd/infrastructure/deimos/python/object.d /usr/local/lib/python3.4/site-packages/pyd/infrastructure/deimos/python/objimpl.d /usr/local/lib/python3.4/site-packages/pyd/infrastructure/deimos/python/parsetok.d /usr/local/lib/python3.4/site-packages/pyd/infrastructure/deimos/python/pgenheaders.d /usr/local/lib/python3.4/site-packages/pyd/infrastructure/deimos/python/pyarena.d /usr/local/lib/python3.4/site-packages/pyd/infrastructure/deimos/python/pyatomic.d /usr/local/lib/python3.4/site-packages/pyd/infrastructure/deimos/python/pycapsule.d /usr/local/lib/python3.4/site-packages/pyd/infrastructure/deimos/python/pydebug.d /usr/local/lib/python3.4/site-packages/pyd/infrastructure/deimos/python/pyerrors.d /usr/local/lib/python3.4/site-packages/pyd/infrastructure/deimos/python/pymem.d /usr/local/lib/python3.4/site-packages/pyd/infrastructure/deimos/python/pyport.d /usr/local/lib/python3.4/site-packages/pyd/infrastructure/deimos/python/pystate.d /usr/local/lib/python3.4/site-packages/pyd/infrastructure/deimos/python/pystrcmp.d /usr/local/lib/python3.4/site-packages/pyd/infrastructure/deimos/python/pystrtod.d /usr/local/lib/python3.4/site-packages/pyd/infrastructure/deimos/python/Python.d /usr/local/lib/python3.4/site-packages/pyd/infrastructure/deimos/python/pythonrun.d /usr/local/lib/python3.4/site-packages/pyd/infrastructure/deimos/python/pythread.d /usr/local/lib/python3.4/site-packages/pyd/infrastructure/deimos/python/rangeobject.d /usr/local/lib/python3.4/site-packages/pyd/infrastructure/deimos/python/setobject.d /usr/local/lib/python3.4/site-packages/pyd/infrastructure/deimos/python/sliceobject.d /usr/local/lib/python3.4/site-packages/pyd/infrastructure/deimos/python/stringobject.d /usr/local/lib/python3.4/site-packages/pyd/infrastructure/deimos/python/structmember.d /usr/local/lib/python3.4/site-packages/pyd/infrastructure/deimos/python/structseq.d /usr/local/lib/python3.4/site-packages/pyd/infrastructure/deimos/python/symtable.d /usr/local/lib/python3.4/site-packages/pyd/infrastructure/deimos/python/sysmodule.d /usr/local/lib/python3.4/site-packages/pyd/infrastructure/deimos/python/timefuncs.d /usr/local/lib/python3.4/site-packages/pyd/infrastructure/deimos/python/traceback.d /usr/local/lib/python3.4/site-packages/pyd/infrastructure/deimos/python/tupleobject.d /usr/local/lib/python3.4/site-packages/pyd/infrastructure/deimos/python/unicodeobject.d /usr/local/lib/python3.4/site-packages/pyd/infrastructure/deimos/python/weakrefobject.d build/temp.macosx-10.10-x86_64-3.4/infra/pydmain.d /usr/local/lib/python3.4/site-packages/pyd/infrastructure/d/python_so_linux_boilerplate.d\n",
      "library_dirs: []\n",
      "runtime_library_dirs: []\n",
      "libraries: []\n",
      "dmd -shared -L/usr/local/Cellar/python3/3.4.3/Frameworks/Python.framework/Versions/3.4/lib/python3.4/config-3.4m/libpython3.4m.a -debug -of/Users/john/.ipython/pyd/_pyd_magic_d3cb68e27fd3d0d8a68f9924e0c2ed33.so build/temp.macosx-10.10-x86_64-3.4/infra/temp.o build/temp.macosx-10.10-x86_64-3.4/infra/so_ctor.o\n"
     ]
    }
   ],
   "source": [
    "%%pyd\n",
    "\n",
    "@pdef!() string hello() {\n",
    "    return \"Hello World!\";\n",
    "}\n",
    "\n",
    "@pdef!(Docstring!\"takes a single int, returns that int converted to a string\")\n",
    "string intToStr(int b)\n",
    "{\n",
    "    import std.conv;\n",
    "    return b.to!string;\n",
    "}\n",
    "\n",
    "@pdef!(PyName!\"binary_zebra\") int zebra()\n",
    "{\n",
    "    return 101010101;\n",
    "}\n",
    "\n",
    "long[] whereExactlyIntegral(float[] data)\n",
    "{\n",
    "    import std.algorithm, std.array;\n",
    "    return data.filter!(x => x == cast(long)x).map!(x => cast(long)x).array;\n",
    "}\n",
    "\n",
    "@pdef!(PyName!\"whereExactlyIntegral\")\n",
    "auto whereExactlyIntegral_numpy(float[] data)\n",
    "{\n",
    "    import pyd.extra;\n",
    "    return data.whereExactlyIntegral().d_to_python_numpy_ndarray();\n",
    "}"
   ]
  },
  {
   "cell_type": "code",
   "execution_count": 4,
   "metadata": {
    "collapsed": false
   },
   "outputs": [
    {
     "data": {
      "text/plain": [
       "'Hello World!'"
      ]
     },
     "execution_count": 4,
     "metadata": {},
     "output_type": "execute_result"
    }
   ],
   "source": [
    "hello()"
   ]
  },
  {
   "cell_type": "code",
   "execution_count": 5,
   "metadata": {
    "collapsed": false
   },
   "outputs": [
    {
     "data": {
      "text/plain": [
       "101010101"
      ]
     },
     "execution_count": 5,
     "metadata": {},
     "output_type": "execute_result"
    }
   ],
   "source": [
    "binary_zebra()"
   ]
  },
  {
   "cell_type": "code",
   "execution_count": 6,
   "metadata": {
    "collapsed": false
   },
   "outputs": [
    {
     "data": {
      "text/plain": [
       "'665543'"
      ]
     },
     "execution_count": 6,
     "metadata": {},
     "output_type": "execute_result"
    }
   ],
   "source": [
    "intToStr(665543)"
   ]
  },
  {
   "cell_type": "code",
   "execution_count": 7,
   "metadata": {
    "collapsed": false
   },
   "outputs": [
    {
     "data": {
      "text/plain": [
       "array([1, 6], dtype=int64)"
      ]
     },
     "execution_count": 7,
     "metadata": {},
     "output_type": "execute_result"
    }
   ],
   "source": [
    "whereExactlyIntegral([0.23, 0.53, 1.0, 6.0, 3.51])"
   ]
  },
  {
   "cell_type": "code",
   "execution_count": 8,
   "metadata": {
    "collapsed": false,
    "scrolled": true
   },
   "outputs": [
    {
     "data": {
      "text/plain": [
       "139631"
      ]
     },
     "execution_count": 8,
     "metadata": {},
     "output_type": "execute_result"
    }
   ],
   "source": [
    "import numpy as np\n",
    "data = np.random.random_integers(0,1000,10000000).astype(np.float32) / 73\n",
    "whereExactlyIntegral(data).size"
   ]
  },
  {
   "cell_type": "code",
   "execution_count": null,
   "metadata": {
    "collapsed": true
   },
   "outputs": [],
   "source": []
  }
 ],
 "metadata": {
  "kernelspec": {
   "display_name": "Python 3",
   "language": "python",
   "name": "python3"
  },
  "language_info": {
   "codemirror_mode": {
    "name": "ipython",
    "version": 3
   },
   "file_extension": ".py",
   "mimetype": "text/x-python",
   "name": "python",
   "nbconvert_exporter": "python",
   "pygments_lexer": "ipython3",
   "version": "3.4.3"
  }
 },
 "nbformat": 4,
 "nbformat_minor": 0
}
