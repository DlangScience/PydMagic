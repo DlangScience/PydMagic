{
 "cells": [
  {
   "cell_type": "code",
   "execution_count": 1,
   "metadata": {
    "collapsed": false
   },
   "outputs": [
    {
     "name": "stdout",
     "output_type": "stream",
     "text": [
      "Installed pyd_magic.py. To use it, type:\n",
      "  %load_ext pyd_magic\n"
     ]
    }
   ],
   "source": [
    "#Run this once to install\n",
    "%install_ext https://raw.githubusercontent.com/DlangScience/PydMagic/master/pyd_magic.py"
   ]
  },
  {
   "cell_type": "code",
   "execution_count": 2,
   "metadata": {
    "collapsed": false
   },
   "outputs": [],
   "source": [
    "%load_ext pyd_magic"
   ]
  },
  {
   "cell_type": "code",
   "execution_count": 3,
   "metadata": {
    "collapsed": false,
    "scrolled": true
   },
   "outputs": [],
   "source": [
    "%%pyd\n",
    "\n",
    "@pdef!() string hello() {\n",
    "    return \"Hello World!\";\n",
    "}\n",
    "\n",
    "@pdef!(Docstring!\"takes a single int, returns that int converted to a string\")\n",
    "string intToStr(int b)\n",
    "{\n",
    "    import std.conv;\n",
    "    return b.to!string;\n",
    "}\n",
    "\n",
    "@pdef!(PyName!\"binary_zebra\") int zebra()\n",
    "{\n",
    "    return 101010101;\n",
    "}\n",
    "\n",
    "long[] whereExactlyIntegral(float[] data)\n",
    "{\n",
    "    import std.algorithm, std.array;\n",
    "    return data.filter!(x => x == cast(long)x).map!(x => cast(long)x).array;\n",
    "}\n",
    "\n",
    "@pdef!(PyName!\"whereExactlyIntegral\")\n",
    "auto whereExactlyIntegral_numpy(float[] data)\n",
    "{\n",
    "    import pyd.extra;\n",
    "    return data.whereExactlyIntegral().d_to_python_numpy_ndarray();\n",
    "}"
   ]
  },
  {
   "cell_type": "code",
   "execution_count": 4,
   "metadata": {
    "collapsed": false
   },
   "outputs": [
    {
     "data": {
      "text/plain": [
       "'Hello World!'"
      ]
     },
     "execution_count": 4,
     "metadata": {},
     "output_type": "execute_result"
    }
   ],
   "source": [
    "hello()"
   ]
  },
  {
   "cell_type": "code",
   "execution_count": 5,
   "metadata": {
    "collapsed": false
   },
   "outputs": [
    {
     "data": {
      "text/plain": [
       "101010101"
      ]
     },
     "execution_count": 5,
     "metadata": {},
     "output_type": "execute_result"
    }
   ],
   "source": [
    "binary_zebra()"
   ]
  },
  {
   "cell_type": "code",
   "execution_count": 6,
   "metadata": {
    "collapsed": false
   },
   "outputs": [
    {
     "data": {
      "text/plain": [
       "'665543'"
      ]
     },
     "execution_count": 6,
     "metadata": {},
     "output_type": "execute_result"
    }
   ],
   "source": [
    "intToStr(665543)"
   ]
  },
  {
   "cell_type": "code",
   "execution_count": 7,
   "metadata": {
    "collapsed": false
   },
   "outputs": [
    {
     "data": {
      "text/plain": [
       "array([1, 6], dtype=int64)"
      ]
     },
     "execution_count": 7,
     "metadata": {},
     "output_type": "execute_result"
    }
   ],
   "source": [
    "whereExactlyIntegral([0.23, 0.53, 1.0, 6.0, 3.51])"
   ]
  },
  {
   "cell_type": "code",
   "execution_count": 8,
   "metadata": {
    "collapsed": false,
    "scrolled": true
   },
   "outputs": [
    {
     "data": {
      "text/plain": [
       "139543"
      ]
     },
     "execution_count": 8,
     "metadata": {},
     "output_type": "execute_result"
    }
   ],
   "source": [
    "import numpy as np\n",
    "data = np.random.random_integers(0,1000,10000000).astype(np.float32) / 73\n",
    "whereExactlyIntegral(data).size"
   ]
  },
  {
   "cell_type": "code",
   "execution_count": null,
   "metadata": {
    "collapsed": true
   },
   "outputs": [],
   "source": []
  }
 ],
 "metadata": {
  "kernelspec": {
   "display_name": "Python 3",
   "language": "python",
   "name": "python3"
  },
  "language_info": {
   "codemirror_mode": {
    "name": "ipython",
    "version": 3
   },
   "file_extension": ".py",
   "mimetype": "text/x-python",
   "name": "python",
   "nbconvert_exporter": "python",
   "pygments_lexer": "ipython3",
   "version": "3.4.3"
  }
 },
 "nbformat": 4,
 "nbformat_minor": 0
}
